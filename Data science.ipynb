{
 "cells": [
  {
   "cell_type": "markdown",
   "metadata": {
    "collapsed": true
   },
   "source": [
    "# My Jupyter Notebook on IBM Watson Studio"
   ]
  },
  {
   "cell_type": "markdown",
   "metadata": {},
   "source": [
    "**El Mehdi Semlali**\n",
    "Data Scientist\n",
    " "
   ]
  },
  {
   "cell_type": "markdown",
   "metadata": {},
   "source": [
    "*I am interested in data science because I am fascinated by the insights that can be gained from analyzing large datasets. Additionally, I enjoy the challenge of solving complex problems and finding patterns in data.*\n"
   ]
  },
  {
   "cell_type": "markdown",
   "metadata": {},
   "source": [
    "### Description of Code in Cell 5\n",
    "\n",
    "The code in Cell 5 calculates the sum of two numbers and displays the result. It serves as a simple example of arithmetic operations in Python.\n"
   ]
  },
  {
   "cell_type": "code",
   "execution_count": 2,
   "metadata": {},
   "outputs": [
    {
     "name": "stdout",
     "output_type": "stream",
     "text": [
      "The sum of 10 and 20 is: 30\n"
     ]
    }
   ],
   "source": [
    "# Calculate the sum of two numbers\n",
    "a = 10\n",
    "b = 20\n",
    "sum_result = a + b\n",
    "\n",
    "# Display the result\n",
    "print(\"The sum of\", a, \"and\", b, \"is:\", sum_result)\n"
   ]
  },
  {
   "cell_type": "markdown",
   "metadata": {},
   "source": [
    "### Markdown Example\n",
    "\n",
    "Below is a demonstration of different Markdown elements:\n",
    "\n",
    "1. **Bulleted List:**\n",
    "   - Item 1: This is the first item in the bulleted list.\n",
    "   - Item 2: This is the second item in the bulleted list.\n",
    "   - Item 3: This is the third item in the bulleted list.\n",
    "\n",
    "2. **Numbered List:**\n",
    "   1. Item 1: This is the first item in the numbered list.\n",
    "   2. Item 2: This is the second item in the numbered list.\n",
    "   3. Item 3: This is the third item in the numbered list.\n",
    "\n",
    "3. **Table:**\n",
    "   \n",
    "   | Column 1 | Column 2 | Column 3 |\n",
    "   |----------|----------|----------|\n",
    "   | Data 1   | Data 2   | Data 3   |\n",
    "   | Data 4   | Data 5   | Data 6   |\n",
    "\n",
    "4. **Hyperlinks:**\n",
    "   - [Google](https://www.google.com): This is a hyperlink to Google's website.\n",
    "   - [GitHub](https://github.com): This is a hyperlink to GitHub's website.\n",
    "\n",
    "\n",
    "\n",
    "\n",
    "\n",
    "\n",
    "\n",
    "5. **Image:**\n",
    "\n",
    "\n",
    "\n",
    "\n",
    "   ![Example Image](https://via.placeholder.com/150): \n",
    "   \n",
    "   \n",
    "   \n",
    "   This is an example image.\n",
    "\n",
    "6. **Detailed Explanation:**\n",
    "   This Markdown cell demonstrates various formatting options available in Markdown. It includes a bulleted list, a numbered list, a table, hyperlinks, an image, and a detailed explanation of each element.\n",
    "\n",
    "7. **Conclusion:**\n",
    "   Markdown is a versatile markup language that allows for easy formatting of text in documents and notebooks. It is widely used for documentation, writing articles, and creating content on platforms like GitHub, Jupyter Notebook, and more.\n"
   ]
  },
  {
   "cell_type": "markdown",
   "metadata": {},
   "source": []
  }
 ],
 "metadata": {
  "kernelspec": {
   "display_name": "Python 3.10",
   "language": "python",
   "name": "python3"
  },
  "language_info": {
   "codemirror_mode": {
    "name": "ipython",
    "version": 3
   },
   "file_extension": ".py",
   "mimetype": "text/x-python",
   "name": "python",
   "nbconvert_exporter": "python",
   "pygments_lexer": "ipython3",
   "version": "3.10.13"
  }
 },
 "nbformat": 4,
 "nbformat_minor": 1
}
