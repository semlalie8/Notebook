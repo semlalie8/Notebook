{
 "cells": [
  {
   "cell_type": "markdown",
   "id": "be98ac23-fc96-4633-9cde-c5a12810c686",
   "metadata": {},
   "source": [
    "# Data Science Tools and Ecosystem\n"
   ]
  },
  {
   "cell_type": "markdown",
   "id": "ef07c7b0-a89d-4a12-aa88-7061290d46a2",
   "metadata": {},
   "source": [
    "In this notebook, Data Science Tools and Ecosystem are summarized.\n"
   ]
  },
  {
   "cell_type": "markdown",
   "id": "d1b3f07d",
   "metadata": {},
   "source": [
    "**Objectives:**\n",
    "\n",
    "- Introduce the Data Science Tools and Ecosystem.\n",
    "  - This includes exploring various tools and technologies commonly used in the field of data science.\n",
    "- List commonly used languages for data science.\n",
    "  - This provides an overview of programming languages that data scientists frequently use for analysis and visualization.\n",
    "- Highlight popular libraries utilized in data science projects.\n",
    "  - This section covers essential libraries and packages that enhance productivity and efficiency in data analysis tasks.\n",
    "- Introduce arithmetic expression examples in Python.\n",
    "  - This involves demonstrating how to evaluate simple arithmetic expressions using Python syntax.\n",
    "- Perform basic arithmetic operations in Python.\n",
    "  - This includes executing expressions to multiply, add, and convert values, showcasing the practical application of Python in numerical computations.\n",
    "- List the key objectives covered in the notebook.\n",
    "  - This section summarizes the main learning points and takeaways from the exercises conducted throughout the notebook."
   ]
  },
  {
   "cell_type": "markdown",
   "id": "10203a80-63b6-4ea7-a2da-6d8a9ac96df0",
   "metadata": {},
   "source": [
    "# Some of the Popular Languages Used in Data Science\n",
    "\n",
    "Data science encompasses a wide range of languages and tools for analyzing and interpreting data. Here are some of the popular languages that Data Scientists use:\n",
    "\n",
    "1. Python\n",
    "2. R\n",
    "3. SQL\n",
    "4. Julia\n",
    "5. Scala\n",
    "6. MATLAB\n",
    "7. Java\n",
    "8. JavaScript\n",
    "9. C/C++\n",
    "10. SAS\n",
    "11. Ruby\n",
    "12. Perl\n",
    "13. Swift\n",
    "14. Kotlin\n",
    "15. Go\n",
    "16. Rust\n",
    "\n",
    "These languages offer various capabilities for data manipulation, statistical analysis, machine learning, and visualization, making them essential tools for data scientists in their day-to-day work.\n"
   ]
  },
  {
   "cell_type": "markdown",
   "id": "4f65fe9f-496a-4d77-9670-55b837f89816",
   "metadata": {},
   "source": [
    "# Some of the Commonly Used Libraries in Data Science\n",
    "\n",
    "Data scientists rely on a variety of libraries to efficiently analyze and manipulate data, perform statistical analysis, build machine learning models, and visualize results. Some of the commonly used libraries by Data Scientists include:\n",
    "\n",
    "1. NumPy\n",
    "2. Pandas\n",
    "3. Matplotlib\n",
    "4. Scikit-learn\n",
    "5. TensorFlow\n",
    "6. PyTorch\n",
    "7. Seaborn\n",
    "8. Statsmodels\n",
    "9. SciPy\n",
    "10. Plotly\n",
    "11. Keras\n",
    "12. NLTK\n",
    "13. XGBoost\n",
    "14. LightGBM\n",
    "15. CatBoost\n",
    "\n",
    "These libraries offer a wide range of functionalities and tools that empower data scientists to tackle various challenges in data analysis and machine learning tasks effectively.\n"
   ]
  },
  {
   "cell_type": "markdown",
   "id": "44c93933-9a19-4027-8fed-89e950573b9c",
   "metadata": {},
   "source": [
    "| Data Science Tools |\n",
    "|--------------------|\n",
    "| Jupyter Notebook   |\n",
    "| RStudio            |\n",
    "| VS Code            |\n"
   ]
  },
  {
   "cell_type": "markdown",
   "id": "ce575f9a-4195-4768-a08b-57de3680ee03",
   "metadata": {},
   "source": [
    "### Below are a few examples of evaluating arithmetic expressions in Python.\n",
    "\n",
    "Arithmetic expressions are fundamental in Python programming and are used to perform mathematical operations. Below are a few examples of evaluating arithmetic expressions in Python:\n",
    "\n",
    "1. Addition: Adding two numbers together.\n",
    "   result = 5 + 3\n",
    "   print(result) Output: 8\n",
    "\n",
    "2. Subtraction: Subtracting one number from another.\n",
    "    result = 10 - 4\n",
    "    print(result) Output: 6\n",
    "\n",
    "3. Multiplication: Multiplying two numbers.\n",
    "    result = 6 * 4\n",
    "    print(result)  Output: 24\n",
    "\n",
    "4. Division: Dividing one number by another.\n",
    "    result = 20 / 5\n",
    "    print(result) Output: 4.0\n",
    "\n",
    "5. Exponentiation: Raising a number to a power.\n",
    "    result = 2 ** 3\n",
    "    print(result)  Output: 8\n",
    "\n",
    "6. Modulo: Finding the remainder of a division operation.\n",
    "    result = 15 % 4\n",
    "    print(result)  Output: 3\n",
    "\n",
    "These examples showcase basic arithmetic operations in Python, which are essential for various computational tasks.\n",
    "\n",
    "\n",
    "\n",
    "\n",
    "\n",
    "\n"
   ]
  },
  {
   "cell_type": "code",
   "execution_count": 2,
   "id": "38413e0f-261e-4ad5-83ef-098b32f114fb",
   "metadata": {},
   "outputs": [
    {
     "name": "stdout",
     "output_type": "stream",
     "text": [
      "17\n"
     ]
    }
   ],
   "source": [
    "# This is an arithmetic expression to multiply then add integers.\n",
    "result = (3 * 4) + 5\n",
    "print(result)"
   ]
  },
  {
   "cell_type": "code",
   "execution_count": 2,
   "id": "04d4293c-bf7d-43a8-9be5-609a9445b9b2",
   "metadata": {},
   "outputs": [
    {
     "data": {
      "text/plain": [
       "3.3333333333333335"
      ]
     },
     "execution_count": 2,
     "metadata": {},
     "output_type": "execute_result"
    }
   ],
   "source": [
    "# This will convert 200 minutes to hours by dividing by 60.\n",
    "minutes = 200\n",
    "hours = minutes / 60\n",
    "hours\n"
   ]
  },
  {
   "cell_type": "markdown",
   "id": "de1d7a9c-06e7-4951-94d6-a17d99c1c932",
   "metadata": {},
   "source": [
    "## Author\n",
    "\n",
    "El Mehdi Fathi Semlali\n"
   ]
  }
 ],
 "metadata": {
  "kernelspec": {
   "display_name": "Python 3 (ipykernel)",
   "language": "python",
   "name": "python3"
  },
  "language_info": {
   "codemirror_mode": {
    "name": "ipython",
    "version": 3
   },
   "file_extension": ".py",
   "mimetype": "text/x-python",
   "name": "python",
   "nbconvert_exporter": "python",
   "pygments_lexer": "ipython3",
   "version": "3.11.6"
  }
 },
 "nbformat": 4,
 "nbformat_minor": 5
}
